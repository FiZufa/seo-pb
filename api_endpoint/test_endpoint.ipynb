{
 "cells": [
  {
   "cell_type": "markdown",
   "id": "0a22989c",
   "metadata": {},
   "source": [
    "### Stage 1: Enrich & Embedd"
   ]
  },
  {
   "cell_type": "markdown",
   "id": "3ff9ec6d",
   "metadata": {},
   "source": [
    "JSONL input file: `input_10.jsonl`"
   ]
  },
  {
   "cell_type": "code",
   "execution_count": 1,
   "id": "eeb5e488",
   "metadata": {},
   "outputs": [
    {
     "name": "stdout",
     "output_type": "stream",
     "text": [
      "{'status': 'success', 'rows_inserted': 2, 'document_ids': ['fa58eb01-924d-401b-8e1e-cccfc438c4f8', 'a611d794-035d-459c-acd4-15810b5cdbbf'], 'supabase_tables': ['public.data_text', 'vecs.data_vector']}\n"
     ]
    }
   ],
   "source": [
    "import requests\n",
    "\n",
    "url = \"http://127.0.0.1:8000/enrich_embedding\"\n",
    "files = {\"file\": open(\"input_10.jsonl\", \"rb\")}\n",
    "response = requests.post(url, files=files)\n",
    "print(response.json())\n"
   ]
  },
  {
   "cell_type": "markdown",
   "id": "f88e0783",
   "metadata": {},
   "source": [
    "![Enrich Embedd](img_enrich_embedd.png)"
   ]
  },
  {
   "cell_type": "markdown",
   "id": "87cf4872",
   "metadata": {},
   "source": [
    "### Stage 2: Clustering"
   ]
  },
  {
   "cell_type": "code",
   "execution_count": 2,
   "id": "bf1b4615",
   "metadata": {},
   "outputs": [
    {
     "name": "stdout",
     "output_type": "stream",
     "text": [
      "200\n",
      "{'status': 'success', 'macro_clusters': 68, 'micro_clusters': 1429, 'assignments': 12082}\n"
     ]
    }
   ],
   "source": [
    "import requests\n",
    "\n",
    "url = \"http://127.0.0.1:8000/run_clustering\"\n",
    "\n",
    "response = requests.post(url)\n",
    "print(response.status_code)\n",
    "print(response.json())"
   ]
  },
  {
   "cell_type": "markdown",
   "id": "632020c3",
   "metadata": {},
   "source": [
    "### Stage 3: Text Representation"
   ]
  },
  {
   "cell_type": "code",
   "execution_count": null,
   "id": "689c8cd8",
   "metadata": {},
   "outputs": [],
   "source": [
    "# Microcluster representation\n",
    "import requests\n",
    "\n",
    "url = \"http://127.0.0.1:8000/text_represent_micro\"\n",
    "\n",
    "response = requests.post(url)\n",
    "print(response.status_code)\n",
    "print(response.json())"
   ]
  },
  {
   "cell_type": "code",
   "execution_count": null,
   "id": "e6acfad8",
   "metadata": {},
   "outputs": [],
   "source": [
    "# Macrocluster representation\n",
    "import requests\n",
    "\n",
    "url = \"http://127.0.0.1:8000/text_represent_macro\"\n",
    "\n",
    "response = requests.post(url)\n",
    "print(response.status_code)\n",
    "print(response.json())"
   ]
  },
  {
   "cell_type": "markdown",
   "id": "63b91b92",
   "metadata": {},
   "source": [
    "### Search with new data"
   ]
  },
  {
   "cell_type": "markdown",
   "id": "023b6776",
   "metadata": {},
   "source": [
    "NOTE: retrived from tables: `public.cluster_assignments`, `public.cluster_micro2`, and `public.cluster_macro2`."
   ]
  },
  {
   "cell_type": "markdown",
   "id": "df1570c9",
   "metadata": {},
   "source": [
    "JSON Input file: `found_record.json`\n",
    "\n",
    "JSONResponse: `response_1758788087893.json`"
   ]
  },
  {
   "cell_type": "code",
   "execution_count": null,
   "id": "5d0c8bc3",
   "metadata": {},
   "outputs": [
    {
     "name": "stdout",
     "output_type": "stream",
     "text": [
      "{'status': 'ok', 'processed': 1, 'errors': [], 'results': [{'index': 8258, 'url': 'https://totalrenting.es/fichas-tecnicas/mitsubishi/carisma/carisma-1995/mitsubishi-carisma-hatchback-1-8-16v-gdi-122-cv/', 'metadata': {'h1': [], 'h2': ['característica review mitsubishi carisma hatchback gdi cv', 'precio mitsubishi carisma hatchback gdi cv', 'ficha técnico acabado medida', 'opinión usuario'], 'h3': ['foto mitsubishi carisma hatchback gdi cv', 'exterior mitsubishi carisma hatchback gdi cv', 'interior mitsubishi carisma hatchback gdi cv', 'conectividad audio', 'vídeo destacado mitsubishi carisma hatchback gdi cv', 'noticia destacado mitsubishi carisma hatchback gdi cv', 'calcular seguro mitsubishi carisma hatchback gdi cv', 'modelo similar mitsubishi carisma hatchback gdi cv'], 'images': [{'src': 'https://totalrenting.es/wp-content/themes/totalRenting/assets/img/logo-total-renting.svg', 'alt': 'Logo TotalRenting'}, {'src': 'https://totalrenting.es/wp-content/themes/totalRenting/assets/img/tr-rojo.svg', 'alt': 'Isologo TotalRenting'}, {'src': 'https://totalrenting.es/wp-content/themes/totalRenting/assets/img/tr-blanco.svg', 'alt': 'Isologo TotalRenting'}, {'src': 'https://totalrenting.es/wp-content/themes/totalRenting/assets/img/whatsapp.svg', 'alt': 'Whatsapp TotalRenting'}, {'src': 'https://totalrenting.es/wp-content/themes/totalRenting/assets/img/prensa/el-pais-esp.svg', 'alt': 'El País'}, {'src': 'https://totalrenting.es/wp-content/themes/totalRenting/assets/img/prensa/El_Mundo_logo.svg', 'alt': 'El Mundo'}, {'src': 'https://totalrenting.es/wp-content/themes/totalRenting/assets/img/prensa/elEconomista.svg', 'alt': 'elEconomista.es'}, {'src': 'https://totalrenting.es/wp-content/themes/totalRenting/assets/img/prensa/motor-es-positivo.svg', 'alt': 'Motor.es'}, {'src': 'https://totalrenting.es/wp-content/themes/totalRenting/assets/img/prensa/logo-20m.svg', 'alt': '20 Minutos'}, {'src': 'https://totalrenting.es/wp-content/themes/totalRenting/assets/img/prensa/marca.svg', 'alt': 'Marca motor'}, {'src': 'https://totalrenting.es/wp-content/themes/totalRenting/assets/img/banderas/it.png', 'alt': 'TotalRenting Italia'}, {'src': 'https://totalrenting.es/wp-content/themes/totalRenting/assets/img/banderas/pt.png', 'alt': 'TotalRenting Portugal'}, {'src': 'https://totalrenting.es/wp-content/themes/totalRenting/assets/img/facebook.svg', 'alt': 'Facebook TotalRenting'}, {'src': 'https://totalrenting.es/wp-content/themes/totalRenting/assets/img/instagram.svg', 'alt': 'Facebook TotalRenting'}, {'src': 'https://totalrenting.es/wp-content/themes/totalRenting/assets/img/blog.svg', 'alt': 'Blog TotalRenting'}, {'src': 'https://totalrenting.es/wp-content/themes/totalRenting/assets/img/whatsapp-b.svg', 'alt': 'whatsapp TotalRenting'}, {'src': 'https://totalrenting.es/wp-content/themes/totalRenting/assets/img/llamada.svg', 'alt': 'Teléfono TotalRenting'}, {'src': 'https://totalrenting.es/wp-content/themes/totalRenting/assets/img/whatsapp-b.svg', 'alt': 'whatsapp TotalRenting'}, {'src': 'https://totalrenting.es/wp-content/themes/totalRenting/assets/img/llamada.svg', 'alt': 'Teléfono TotalRenting'}]}, 'entities': {'car_model': ['mitsubishi carisma hatchback gdi cv'], 'features': ['característica', 'ficha técnico', 'acabado', 'medida', 'conectividad audio'], 'user_opinion': ['opinión usuario'], 'media': ['foto', 'vídeo destacado', 'noticia destacado'], 'insurance': ['calcular seguro'], 'similar_models': ['modelo similar'], 'price': ['precio']}, 'suggested_title': 'Mitsubishi Carisma Hatchback GDI CV Review and Features', 'faq_pairs': [{'question': 'What are the key features of the Mitsubishi Carisma Hatchback GDI CV?', 'answer': 'The Mitsubishi Carisma Hatchback GDI CV includes features such as a detailed technical specification, connectivity options, and user opinions.'}, {'question': 'How much does the Mitsubishi Carisma Hatchback GDI CV cost?', 'answer': 'The price of the Mitsubishi Carisma Hatchback GDI CV can vary based on the model year and condition.'}, {'question': 'Where can I find similar models to the Mitsubishi Carisma Hatchback GDI CV?', 'answer': \"You can find similar models listed under the 'modelo similar' section on our website.\"}], 'user_search_intent': 'To find reviews, prices, and features of the Mitsubishi Carisma Hatchback GDI CV.', 'assigned_macro': {'cluster_id': 30, 'cluster_name': 'característica, usuario, reviews, similar, interior', 'keywords': 'característica, usuario, reviews, similar, interior, exterior, foto, destacado, acabado, answer, opinión, question, medida, information', 'count': 621}, 'assigned_micro': {'microcluster_id': 8, 'microcluster_name': '8_gdi_carisma_diamante_hatchback', 'keywords': 'modelo, features, calcular, conectividad, seguro, destacado, similar, audio, noticia, opinión', 'count': 20}, 'related_docs': [{'doc_id': '2a0d2ddb-14ea-417a-be1b-62b0933548dc', 'url': 'https://totalrenting.es/fichas-tecnicas/mitsubishi/carisma/carisma-1995/mitsubishi-carisma-hatchback-1-8-16v-gdi-122-cv/', 'suggested_title': 'Mitsubishi Carisma Hatchback GDI CV Review and Information', 'user_search_intent': 'To find reviews, prices, and specifications for the Mitsubishi Carisma Hatchback GDI CV.', 'entities': {'media': ['foto', 'vídeo destacado', 'noticia destacado'], 'prices': ['precio'], 'features': ['característica', 'ficha técnico', 'acabado', 'medida', 'exterior', 'interior', 'conectividad audio'], 'insurance': ['calcular seguro'], 'car_models': ['mitsubishi carisma hatchback gdi cv'], 'user_opinions': ['opinión usuario'], 'similar_models': ['modelo similar']}, 'cluster_id': 30, 'microcluster_id': 8, 'similarity': 0.9496326446533203}, {'doc_id': '12e2d77b-41fa-4357-b34c-fc70c583ce89', 'url': 'https://totalrenting.es/fichas-tecnicas/mitsubishi/carisma/carisma-1995/mitsubishi-carisma-hatchback-1-8-16v-gdi-125-cv/', 'suggested_title': 'Mitsubishi Carisma Hatchback GDI CV Review and Specifications', 'user_search_intent': 'To find a review, specifications, and pricing information for the Mitsubishi Carisma Hatchback GDI CV.', 'entities': {'media': ['foto', 'vídeo destacado', 'noticia destacado'], 'features': ['característica', 'ficha técnico', 'acabado', 'medida', 'exterior', 'interior', 'conectividad audio'], 'car_model': ['mitsubishi carisma hatchback gdi cv'], 'user_opinion': ['opinión usuario'], 'similar_models': ['modelo similar'], 'insurance_calculation': ['calcular seguro']}, 'cluster_id': 30, 'microcluster_id': 8, 'similarity': 0.9371657967567444}, {'doc_id': '7b031b33-b8fb-4b27-8daa-3cce717fffa1', 'url': 'https://totalrenting.es/fichas-tecnicas/mitsubishi/carisma/carisma-1995/mitsubishi-carisma-hatchback-1-8-16v-gdi-125-cv-automatic/', 'suggested_title': 'Mitsubishi Carisma Hatchback GDI CV Automatic Review and Features', 'user_search_intent': 'To find a comprehensive review and information about the Mitsubishi Carisma Hatchback GDI CV Automatic.', 'entities': {'media': ['foto', 'vídeo destacado', 'noticia destacado'], 'features': ['característica', 'precio', 'ficha técnico', 'acabado', 'medida', 'opinión usuario', 'conectividad audio'], 'services': ['calcular seguro', 'modelo similar'], 'car_model': ['mitsubishi carisma hatchback gdi cv automatic']}, 'cluster_id': 30, 'microcluster_id': 8, 'similarity': 0.932996392250061}, {'doc_id': '4ffbf252-6b3e-4b1c-8421-56ff3f74a3f7', 'url': 'https://totalrenting.es/fichas-tecnicas/mitsubishi/carisma/carisma-1995/mitsubishi-carisma-hatchback-1-8-16v-gdi-122-cv-automatic/', 'suggested_title': 'Mitsubishi Carisma Hatchback GDI CV Automatic Review and Features', 'user_search_intent': 'To find reviews, prices, and features of the Mitsubishi Carisma Hatchback GDI CV Automatic.', 'entities': {'media': ['foto', 'vídeo destacado', 'noticia destacado'], 'features': ['característica', 'precio', 'ficha técnico', 'acabado', 'medida', 'opinión usuario', 'conectividad audio'], 'services': ['calcular seguro', 'modelo similar'], 'car_models': ['Mitsubishi Carisma Hatchback GDI CV Automatic']}, 'cluster_id': 30, 'microcluster_id': 8, 'similarity': 0.932996392250061}, {'doc_id': '85f4b05a-df8d-4015-ab70-b95d617c53ca', 'url': 'https://totalrenting.es/fichas-tecnicas/mitsubishi/carisma/carisma-1995/mitsubishi-carisma-hatchback-1-8-16v-116-cv/', 'suggested_title': 'Mitsubishi Carisma Hatchback CV Review and Features', 'user_search_intent': 'To find information, reviews, and pricing for the Mitsubishi Carisma Hatchback CV.', 'entities': {'media': ['foto', 'vídeo destacado', 'noticia destacado'], 'features': ['característica', 'ficha técnico', 'acabado', 'medida', 'conectividad audio'], 'car_model': ['mitsubishi carisma hatchback cv'], 'insurance': ['calcular seguro'], 'user_opinion': ['opinión usuario'], 'similar_models': ['modelo similar']}, 'cluster_id': 30, 'microcluster_id': 16, 'similarity': 0.9321287870407104}]}]}\n"
     ]
    }
   ],
   "source": [
    "import requests\n",
    "import json\n",
    "\n",
    "url = \"http://127.0.0.1:8000/search_cluster\"\n",
    "files = {\"file\": open(\"found_record.json\", \"rb\")}\n",
    "response = requests.post(url, files=files)\n",
    "print(response.json())\n"
   ]
  },
  {
   "cell_type": "markdown",
   "id": "c5b024ea",
   "metadata": {},
   "source": [
    "![Search](img_search.png)"
   ]
  }
 ],
 "metadata": {
  "kernelspec": {
   "display_name": "vidovax-env",
   "language": "python",
   "name": "python3"
  },
  "language_info": {
   "codemirror_mode": {
    "name": "ipython",
    "version": 3
   },
   "file_extension": ".py",
   "mimetype": "text/x-python",
   "name": "python",
   "nbconvert_exporter": "python",
   "pygments_lexer": "ipython3",
   "version": "3.11.11"
  }
 },
 "nbformat": 4,
 "nbformat_minor": 5
}
